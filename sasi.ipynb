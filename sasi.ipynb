{
 "cells": [
  {
   "cell_type": "code",
   "execution_count": 1,
   "metadata": {
    "id": "VV46CkrwrqsP"
   },
   "outputs": [],
   "source": [
    "import requests\n",
    "import urllib.request\n",
    "import time\n",
    "from bs4 import BeautifulSoup\n",
    "import numpy as np\n",
    "import pandas as pd\n",
    "from urllib.request import urlopen\n",
    "import re"
   ]
  },
  {
   "cell_type": "code",
   "execution_count": 2,
   "metadata": {
    "colab": {
     "base_uri": "https://localhost:8080/",
     "height": 119
    },
    "id": "8sQOYeS0sIxH",
    "outputId": "87586941-8db7-4121-a981-60893e23b991"
   },
   "outputs": [
    {
     "name": "stdout",
     "output_type": "stream",
     "text": [
      "{'Tomato': ''}\n",
      "{'Tomato': '', 'Potato': ''}\n",
      "{'Tomato': '', 'Potato': '', 'Onion': ''}\n",
      "{'Tomato': '', 'Potato': '', 'Onion': '', 'Carrot': ''}\n",
      "https://en.wikipedia.org/wiki/Tomato\n",
      "https://en.wikipedia.org/wiki/Potato\n",
      "https://en.wikipedia.org/wiki/Onion\n",
      "https://en.wikipedia.org/wiki/Carrot\n"
     ]
    }
   ],
   "source": [
    "plantlist = ['Tomato','Potato','Onion','Carrot']\n",
    "headings = ['Description','Cultivation','Cultivars','Consumption','storage']\n",
    "dict_data = {}\n",
    "soup={}\n",
    "for plant in plantlist:\n",
    "  dict_data[plant]=\"\" \n",
    "  print(dict_data) \n",
    "for plant in plantlist:\n",
    "  url = 'https://en.wikipedia.org/wiki/' + plant\n",
    "  print(url)\n",
    "  html = urlopen(url)\n",
    "  soup[plant] = BeautifulSoup(html, 'html.parser')\n"
   ]
  },
  {
   "cell_type": "code",
   "execution_count": 7,
   "metadata": {
    "colab": {
     "base_uri": "https://localhost:8080/",
     "height": 54
    },
    "id": "ZZ7jxsCjc0D_",
    "outputId": "e29c979b-964c-4a4b-afc3-0461fc14df51"
   },
   "outputs": [],
   "source": [
    "for heading in headings:\n",
    "    if(soup[plant].find(id=heading)):\n",
    "        mark=soup[plant].find(id=heading)\n",
    "        description = []\n",
    "        for elt in mark.parent.nextSiblingGenerator():\n",
    "            if elt.name == \"h3\":\n",
    "                break\n",
    "            if hasattr(elt, \"text\"):\n",
    "                textstrip=re.sub(r\"\\[[^\\)]*\\]\", \"\",elt.text)\n",
    "                textstrip = textstrip.rstrip(\"\\n\")\n",
    "                textstrip = re.sub(r'(\\n\\s*)+\\n+', '', textstrip)\n",
    "                textstrip.replace('\\n', '')\n",
    "#                 textstrip=re.sub(r\"\\\\n'\", \"\",textstrip)\n",
    "                headdata=plant+'_'+heading\n",
    "                description.append(textstrip)\n",
    "                dict_data[headdata] = description\n",
    "    else:\n",
    "        dict_data[headdata]=\"NAN\""
   ]
  },
  {
   "cell_type": "code",
   "execution_count": 8,
   "metadata": {
    "colab": {
     "base_uri": "https://localhost:8080/",
     "height": 54
    },
    "id": "xCyrLdMUu4_b",
    "outputId": "95ed0d8b-9e29-4672-8bad-4256f4869a24"
   },
   "outputs": [
    {
     "name": "stdout",
     "output_type": "stream",
     "text": [
      "{'Tomato': '', 'Potato': '', 'Onion': '', 'Carrot': '', 'Carrot_Description': ['Daucus carota is a biennial plant. In the first year, its rosette of leaves produces large amounts of sugars, which are stored in the taproot to provide energy for the plant to flower in the second year.', ' Seedlings shortly after germination', 'Soon after germination, carrot seedlings show a distinct demarcation between taproot and stem: the stem is thicker and lacks lateral roots. At the upper end of the stem is the seed leaf. The first true leaf appears about 10–15 days after germination. Subsequent leaves are alternate (with a single leaf attached to a node), spirally arranged, and pinnately compound, with leaf bases sheathing the stem. As the plant grows, the bases of the seed leaves, near the taproot, are pushed apart. The stem, located just above the ground, is compressed and the internodes are not distinct. When the seed stalk elongates for flowering, the tip of the stem narrows and becomes pointed, and the stem extends upward to become a highly branched inflorescence up to 60–200\\xa0cm (20–80\\xa0in) tall.', 'Most of the taproot consists of a pulpy outer cortex (phloem) and an inner core (xylem). High-quality carrots have a large proportion of cortex compared to core. Although a completely xylem-free carrot is not possible, some cultivars have small and deeply pigmented cores; the taproot can appear to lack a core when the colour of the cortex and core are similar in intensity. Taproots are typically long and conical, although cylindrical and nearly-spherical cultivars are available. The root diameter can range from 1\\xa0cm (3⁄8\\xa0in) to as much as 10\\xa0cm (4\\xa0in) at the widest part. The root length ranges from 5 to 50\\xa0cm (2 to 20\\xa0in), although most are between 10 and 25\\xa0cm (4 and 10\\xa0in).', '.mw-parser-output .tmulti .thumbinner{display:flex;flex-direction:column}.mw-parser-output .tmulti .trow{display:flex;flex-direction:row;clear:left;flex-wrap:wrap;width:100%;box-sizing:border-box}.mw-parser-output .tmulti .tsingle{margin:1px;float:left}.mw-parser-output .tmulti .theader{clear:both;font-weight:bold;text-align:center;align-self:center;background-color:transparent;width:100%}.mw-parser-output .tmulti .thumbcaption{background-color:transparent}.mw-parser-output .tmulti .text-align-left{text-align:left}.mw-parser-output .tmulti .text-align-right{text-align:right}.mw-parser-output .tmulti .text-align-center{text-align:center}@media all and (max-width:720px){.mw-parser-output .tmulti .thumbinner{width:100%!important;box-sizing:border-box;max-width:none!important;align-items:center}.mw-parser-output .tmulti .trow{justify-content:center}.mw-parser-output .tmulti .tsingle{float:none!important;max-width:100%!important;box-sizing:border-box;text-align:center}.mw-parser-output .tmulti .tsingle .thumbcaption{text-align:left}.mw-parser-output .tmulti .trow>.thumbcaption{text-align:center}}', 'Daucus carota umbel (inflorescence). Individual flowers are borne on undivided pedicels originating from a common node.Top view of Daucus carota inflorescence, showing umbellets; the central flower is dark red.', 'Flower development begins when the flat meristem changes from producing leaves to an uplifted, conical meristem capable of producing stem elongation and a cluster of flowers. The cluster is a compound umbel, and each umbel contains several smaller umbels (umbellets). The first (primary) umbel occurs at the end of the main floral stem; smaller secondary umbels grow from the main branch, and these further branch into third, fourth, and even later-flowering umbels.', 'A large, primary umbel can contain up to 50 umbellets, each of which may have as many as 50 flowers; subsequent umbels have fewer flowers. Individual flowers are small and white, sometimes with a light green or yellow tint. They consist of five petals, five stamens, and an entire calyx. The stamens usually split and fall off before the stigma becomes receptive to receive pollen. The stamens of the brown, male, sterile flowers degenerate and shrivel before the flower fully opens. In the other type of male sterile flower, the stamens are replaced by petals, and these petals do not fall off. A nectar-containing disc is present on the upper surface of the carpels.', ' Flowers consist of five petals, five stamens, and an entire calyx.', 'Flowers change sex in their development, so the stamens release their pollen before the stigma of the same flower is receptive. The arrangement is centripetal, meaning the oldest flowers are near the edge and the youngest flowers are in the center. Flowers usually first open at the outer edge of the primary umbel, followed about a week later on the secondary umbels, and then in subsequent weeks in higher-order umbels.', \"The usual flowering period of individual umbels is 7 to 10 days, so a plant can be in the process of flowering for 30–50 days. The distinctive umbels and floral nectaries attract pollinating insects. After fertilization and as seeds develop, the outer umbellets of an umbel bend inward causing the umbel shape to change from slightly convex or fairly flat to concave, and when cupped it resembles a bird's nest.\", ' Carrots in Ljubljana Central Market', ' Carrots for sale at a farmers market in The Villages, Florida', 'The fruit that develops is a schizocarp consisting of two mericarps; each mericarp is a true seed. The paired mericarps are easily separated when they are dry. Premature separation (shattering) before harvest is undesirable because it can result in seed loss. Mature seeds are flattened on the commissural side that faced the septum of the ovary. The flattened side has five longitudinal ribs. The bristly hairs that protrude from some ribs are usually removed by abrasion during milling and cleaning. Seeds also contain oil ducts and canals. Seeds vary somewhat in size, ranging from less than 500 to more than 1000 seeds per gram.', 'The carrot is a diploid species, and has nine relatively short, uniform-length chromosomes (2n=18).', 'Chemistry', ' β-Carotene structure. Carotene is responsible for the orange colour of carrots and many other fruits and vegetables.', 'Polyacetylenes can be found in Apiaceae vegetables like carrots where they show cytotoxic activities. Falcarinol and falcarindiol (cis-heptadeca-1,9-diene-4,6-diyne-3,8-diol)', 'Other compounds such as pyrrolidine (present in the leaves), 6-methoxymellein, eugenin, 2,4,5-trimethoxybenzaldehyde (gazarin) or (Z)-3-acetoxy-heptadeca-1,9-diene-4,6-diin-8-ol (falcarindiol 3-acetate) can also be found in carrot.', 'Cultivation', ' Workers harvesting carrots, Imperial Valley, California, 1948', 'Carrots are grown from seed and can take up to four months (120 days) to mature, but most cultivars mature within 70 to 80 days under the right conditions. The optimum temperature is 16 to 21\\xa0°C (61 to 70\\xa0°F).', 'Fertilizer should be applied according to soil type because the crop requires low levels of nitrogen, moderate phosphate and high potash. Rich or rocky soils should be avoided, as these will cause the roots to become hairy and/or misshapen. Irrigation is applied when needed to keep the soil moist. After sprouting, the crop is eventually thinned to a spacing of 8 to 10\\xa0cm (3 to 4\\xa0in) and weeded to prevent competition beneath the soil.'], 'Carrot_Cultivation': [' Workers harvesting carrots, Imperial Valley, California, 1948', 'Carrots are grown from seed and can take up to four months (120 days) to mature, but most cultivars mature within 70 to 80 days under the right conditions. The optimum temperature is 16 to 21\\xa0°C (61 to 70\\xa0°F).', 'Fertilizer should be applied according to soil type because the crop requires low levels of nitrogen, moderate phosphate and high potash. Rich or rocky soils should be avoided, as these will cause the roots to become hairy and/or misshapen. Irrigation is applied when needed to keep the soil moist. After sprouting, the crop is eventually thinned to a spacing of 8 to 10\\xa0cm (3 to 4\\xa0in) and weeded to prevent competition beneath the soil.'], 'Carrot_Cultivars': [' Carrot seeds', ' Seeds of Daucus carota subsp. maximus - MHNT', 'Carrot cultivars can be grouped into two broad classes, eastern carrots and western carrots.', '\"Eastern\" (a European and American continent reference) carrots were domesticated in Persia (probably in the lands of modern-day Iran and Afghanistan within West Asia) during the 10th century, or possibly earlier. Specimens of the \"eastern\" carrot that survive to the present day are commonly purple or yellow, and often have branched roots. The purple colour common in these carrots comes from anthocyanin pigments.', 'The western carrot emerged in the Netherlands in the 17th century. The orange colour results from abundant carotenes in these cultivars.', 'Western carrot cultivars are commonly classified by their root shape. The four general types are:', \"Chantenay carrots. Although the roots are shorter than other cultivars, they have vigorous foliage and greater girth, being broad in the shoulders and tapering towards a blunt, rounded tip. They store well, have a pale-coloured core and are mostly used for processing. Cultivars include 'Nelson Hybrid', 'Scarlet Nantes' and 'Sweetness Hybrid'.\", 'Carrot breeding programs have developed new cultivars to have dense amounts of chemically-stable acylated pigments, such as anthocyanins, which enrich carrot color based on the density and types of anthocyanin to produce different carrot colors.  One particular cultivar lacks the usual orange pigment due to carotene, owing its white colour to a recessive gene for tocopherol (vitamin E), but this cultivar and wild carrots do not provide nutritionally significant amounts of vitamin E.', 'Production', '\\nProduction of carrots (and turnips) in 2018CountryProduction (millions of tonnes)\\xa0China17.9\\xa0Uzbekistan2.2\\xa0United States1.5\\xa0Russia1.4\\xa0Ukraine0.8World40Source: FAOSTAT of the United Nations', 'In 2018, world production of carrots (combined with turnips) was 40 million tonnes, with China producing 45% of the world total (table).', 'Storage', 'Carrots can be stored for several months in the refrigerator or over winter in a moist, cool place. For long term storage, unwashed carrots can be placed in a bucket between layers of sand, a 50/50 mix of sand and wood shavings, or in soil. A temperature range of 0 to 4\\xa0°C (32 to 40\\xa0°F) is best.', 'Consumption', 'Carrots can be eaten in a variety of ways. Only 3 percent of the β-carotene in raw carrots is released during digestion: this can be improved to 39% by pulping, cooking and adding cooking oil.', 'The greens are edible as a leaf vegetable, Because the major carrot allergen, the protein Dauc c 1.0104, is cross-reactive with homologues in birch pollen (Bet v 1) and mugwort pollen (Art v 1), most carrot allergy sufferers are also allergic to pollen from these plants.', 'In India carrots are used in a variety of ways, as salads or as vegetables added to spicy rice or dal dishes. A popular variation in north India is the Gajar Ka Halwa carrot dessert, which has carrots grated and cooked in milk until the whole mixture is solid, after which nuts and butter are added.', 'Since the late 1980s, baby carrots or mini-carrots (carrots that have been peeled and cut into uniform cylinders) have been a popular ready-to-eat snack food available in many supermarkets.', 'The sweetness of carrots allows the vegetable to be used in some fruit-like roles. Grated carrots are used in carrot cakes, as well as carrot puddings, an English dish thought to have originated in the early 19th century.', 'Highly excessive consumption over a period of time results in a condition of carotenemia which is a yellowing of the skin caused by a build up of carotenoids.'], 'Carrot_Consumption': 'NAN'}\n"
     ]
    }
   ],
   "source": [
    "print(dict_data)\n"
   ]
  },
  {
   "cell_type": "code",
   "execution_count": null,
   "metadata": {},
   "outputs": [],
   "source": []
  },
  {
   "cell_type": "code",
   "execution_count": null,
   "metadata": {},
   "outputs": [],
   "source": []
  }
 ],
 "metadata": {
  "colab": {
   "collapsed_sections": [],
   "name": "sasi.ipynb",
   "provenance": []
  },
  "kernelspec": {
   "display_name": "Python 3",
   "language": "python",
   "name": "python3"
  },
  "language_info": {
   "codemirror_mode": {
    "name": "ipython",
    "version": 3
   },
   "file_extension": ".py",
   "mimetype": "text/x-python",
   "name": "python",
   "nbconvert_exporter": "python",
   "pygments_lexer": "ipython3",
   "version": "3.6.5"
  }
 },
 "nbformat": 4,
 "nbformat_minor": 1
}
