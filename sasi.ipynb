{
 "cells": [
  {
   "cell_type": "code",
   "execution_count": 34,
   "metadata": {
    "id": "VV46CkrwrqsP"
   },
   "outputs": [],
   "source": [
    "import requests\n",
    "import urllib.request\n",
    "import time\n",
    "from bs4 import BeautifulSoup\n",
    "import numpy as np\n",
    "import pandas as pd\n",
    "from urllib.request import urlopen\n",
    "import re"
   ]
  },
  {
   "cell_type": "code",
   "execution_count": 37,
   "metadata": {
    "colab": {
     "base_uri": "https://localhost:8080/",
     "height": 119
    },
    "id": "8sQOYeS0sIxH",
    "outputId": "87586941-8db7-4121-a981-60893e23b991"
   },
   "outputs": [
    {
     "name": "stdout",
     "output_type": "stream",
     "text": [
      "{'Tomato': ''}\n",
      "{'Tomato': '', 'Potato': ''}\n",
      "{'Tomato': '', 'Potato': '', 'Onion': ''}\n",
      "{'Tomato': '', 'Potato': '', 'Onion': '', 'Carrot': ''}\n",
      "https://en.wikipedia.org/wiki/Tomato\n",
      "https://en.wikipedia.org/wiki/Potato\n",
      "https://en.wikipedia.org/wiki/Onion\n",
      "https://en.wikipedia.org/wiki/Carrot\n"
     ]
    }
   ],
   "source": [
    "plantlist = ['Tomato','Potato','Onion','Carrot']\n",
    "dict_data = {}\n",
    "soup={}\n",
    "for plant in plantlist:\n",
    "  dict_data[plant]=\"\" \n",
    "  print(dict_data) \n",
    "for plant in plantlist:\n",
    "  url = 'https://en.wikipedia.org/wiki/' + plant\n",
    "  print(url)\n",
    "  html = urlopen(url)\n",
    "  soup[plant] = BeautifulSoup(html, 'html.parser')\n"
   ]
  },
  {
   "cell_type": "code",
   "execution_count": 38,
   "metadata": {
    "colab": {
     "base_uri": "https://localhost:8080/",
     "height": 54
    },
    "id": "ZZ7jxsCjc0D_",
    "outputId": "e29c979b-964c-4a4b-afc3-0461fc14df51"
   },
   "outputs": [],
   "source": [
    "for plant in plantlist:\n",
    "    if(soup[plant].find(id=\"Description\")):\n",
    "        mark=soup[plant].find(id=\"Description\")\n",
    "        for elt in mark.parent.nextSiblingGenerator():\n",
    "            if elt.name == \"h3\":\n",
    "                break\n",
    "            if hasattr(elt, \"text\"):\n",
    "                dict_data[plant] = elt.text\n",
    "    else:\n",
    "        dict_data[plant]=\"NAN\""
   ]
  },
  {
   "cell_type": "code",
   "execution_count": 39,
   "metadata": {
    "colab": {
     "base_uri": "https://localhost:8080/",
     "height": 54
    },
    "id": "xCyrLdMUu4_b",
    "outputId": "95ed0d8b-9e29-4672-8bad-4256f4869a24"
   },
   "outputs": [
    {
     "name": "stdout",
     "output_type": "stream",
     "text": [
      "{'Tomato': 'For propagation, the seeds need to come from a mature fruit, and be dried or fermented before germination.[citation needed]\\n', 'Potato': 'NAN', 'Onion': 'Uses[edit]', 'Carrot': 'Fertilizer should be applied according to soil type because the crop requires low levels of nitrogen, moderate phosphate and high potash. Rich or rocky soils should be avoided, as these will cause the roots to become hairy and/or misshapen.[36] Irrigation is applied when needed to keep the soil moist. After sprouting, the crop is eventually thinned to a spacing of 8 to 10\\xa0cm (3 to 4\\xa0in) and weeded to prevent competition beneath the soil.[32][37]\\n'}\n"
     ]
    }
   ],
   "source": [
    "print(dict_data)\n"
   ]
  },
  {
   "cell_type": "code",
   "execution_count": null,
   "metadata": {},
   "outputs": [],
   "source": []
  }
 ],
 "metadata": {
  "colab": {
   "collapsed_sections": [],
   "name": "sasi.ipynb",
   "provenance": []
  },
  "kernelspec": {
   "display_name": "Python 3",
   "language": "python",
   "name": "python3"
  },
  "language_info": {
   "codemirror_mode": {
    "name": "ipython",
    "version": 3
   },
   "file_extension": ".py",
   "mimetype": "text/x-python",
   "name": "python",
   "nbconvert_exporter": "python",
   "pygments_lexer": "ipython3",
   "version": "3.7.3"
  }
 },
 "nbformat": 4,
 "nbformat_minor": 1
}
