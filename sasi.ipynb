{
  "nbformat": 4,
  "nbformat_minor": 0,
  "metadata": {
    "colab": {
      "name": "sasi.ipynb",
      "provenance": [],
      "collapsed_sections": []
    },
    "kernelspec": {
      "name": "python3",
      "display_name": "Python 3"
    }
  },
  "cells": [
    {
      "cell_type": "code",
      "metadata": {
        "id": "VV46CkrwrqsP"
      },
      "source": [
        "import requests\n",
        "import urllib.request\n",
        "import time\n",
        "from bs4 import BeautifulSoup\n",
        "import numpy as np\n",
        "import pandas as pd\n",
        "from urllib.request import urlopen\n",
        "import re"
      ],
      "execution_count": 40,
      "outputs": []
    },
    {
      "cell_type": "code",
      "metadata": {
        "id": "8sQOYeS0sIxH",
        "outputId": "87586941-8db7-4121-a981-60893e23b991",
        "colab": {
          "base_uri": "https://localhost:8080/",
          "height": 119
        }
      },
      "source": [
        "plantlist = ['tomato', 'potato', 'onion']\n",
        "dict_data = {}\n",
        "for plant in plantlist:\n",
        "  dict_data[plant]=\"\" \n",
        "  print(dict_data) \n",
        "for plant in plantlist:\n",
        "  url = 'https://en.wikipedia.org/wiki/' + plant\n",
        "  print(url)\n",
        "  html = urlopen(url)\n",
        "  soup = BeautifulSoup(html, 'html.parser')"
      ],
      "execution_count": 41,
      "outputs": [
        {
          "output_type": "stream",
          "text": [
            "{'tomato': ''}\n",
            "{'tomato': '', 'potato': ''}\n",
            "{'tomato': '', 'potato': '', 'onion': ''}\n",
            "https://en.wikipedia.org/wiki/tomato\n",
            "https://en.wikipedia.org/wiki/potato\n",
            "https://en.wikipedia.org/wiki/onion\n"
          ],
          "name": "stdout"
        }
      ]
    },
    {
      "cell_type": "code",
      "metadata": {
        "id": "ZZ7jxsCjc0D_",
        "outputId": "e29c979b-964c-4a4b-afc3-0461fc14df51",
        "colab": {
          "base_uri": "https://localhost:8080/",
          "height": 54
        }
      },
      "source": [
        "mark = soup.find(id=\"Description\")\n",
        "description = []\n",
        "for elt in mark.parent.nextSiblingGenerator():\n",
        "  if elt.name == \"h3\":\n",
        "    break\n",
        "  if hasattr(elt, \"text\"):\n",
        "    description.append(elt.text)\n",
        "\n",
        "  dict_data[plant] = description\n",
        "print(description)"
      ],
      "execution_count": 42,
      "outputs": [
        {
          "output_type": "stream",
          "text": [
            "['The onion plant has been grown and selectively bred in cultivation for at least 7,000 years. It is a biennial plant, but is usually grown as an annual. Modern varieties typically grow to a height of 15 to 45\\xa0cm (6 to 18\\xa0in). The leaves are yellowish- to bluish green and grow alternately in a flattened, fan-shaped swathe. They are fleshy, hollow, and cylindrical, with one flattened side. They are at their broadest about a quarter of the way up, beyond which they taper towards a blunt tip. The base of each leaf is a flattened, usually white sheath that grows out of the basal plate of a bulb. From the underside of the plate, a bundle of fibrous roots extends for a short way into the soil. As the onion matures, food reserves begin to accumulate in the leaf bases and the bulb of the onion swells.[15]\\n', 'In the autumn, the leaves die back and the outer scales of the bulb become dry and brittle, so the crop is then normally harvested. If left in the soil over winter, the growing point in the middle of the bulb begins to develop in the spring. New leaves appear and a long, stout, hollow stem expands, topped by a bract protecting a developing inflorescence. The inflorescence takes the form of a globular umbel of white flowers with parts in sixes. The seeds are glossy black and triangular in cross section.[15] The average pH of an onion is around 5.5.[16]\\n', 'Uses[edit]']\n"
          ],
          "name": "stdout"
        }
      ]
    },
    {
      "cell_type": "code",
      "metadata": {
        "id": "xCyrLdMUu4_b",
        "outputId": "95ed0d8b-9e29-4672-8bad-4256f4869a24",
        "colab": {
          "base_uri": "https://localhost:8080/",
          "height": 54
        }
      },
      "source": [
        "print(dict_data)\n"
      ],
      "execution_count": 43,
      "outputs": [
        {
          "output_type": "stream",
          "text": [
            "{'tomato': '', 'potato': '', 'onion': ['The onion plant has been grown and selectively bred in cultivation for at least 7,000 years. It is a biennial plant, but is usually grown as an annual. Modern varieties typically grow to a height of 15 to 45\\xa0cm (6 to 18\\xa0in). The leaves are yellowish- to bluish green and grow alternately in a flattened, fan-shaped swathe. They are fleshy, hollow, and cylindrical, with one flattened side. They are at their broadest about a quarter of the way up, beyond which they taper towards a blunt tip. The base of each leaf is a flattened, usually white sheath that grows out of the basal plate of a bulb. From the underside of the plate, a bundle of fibrous roots extends for a short way into the soil. As the onion matures, food reserves begin to accumulate in the leaf bases and the bulb of the onion swells.[15]\\n', 'In the autumn, the leaves die back and the outer scales of the bulb become dry and brittle, so the crop is then normally harvested. If left in the soil over winter, the growing point in the middle of the bulb begins to develop in the spring. New leaves appear and a long, stout, hollow stem expands, topped by a bract protecting a developing inflorescence. The inflorescence takes the form of a globular umbel of white flowers with parts in sixes. The seeds are glossy black and triangular in cross section.[15] The average pH of an onion is around 5.5.[16]\\n', 'Uses[edit]']}\n"
          ],
          "name": "stdout"
        }
      ]
    }
  ]
}